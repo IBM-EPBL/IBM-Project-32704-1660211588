
Import the library

from keras.preprocessing.image import ImageDataGenerator
Arguments for ImageDataGenerator class

train_datagen=ImageDataGenerator(rescale=1./255,shear_range=0.2,zoom_range=0.2,horizontal_flip=True)
text_dataset=ImageDataGenerator(rescale=1./255)
Applying ImageDataGenerator functionality to trainset and testset

from tensorflow.keras.preprocessing.image import ImageDataGenerator
train_datagen = ImageDataGenerator(rescale= 1./255,horizontal_flip = True,vertical_flip = True,zoom_range = 0.2)
test_datagen = ImageDataGenerator(rescale= 1./255)
x_train = train_datagen.flow_from_directory("/content/drive/MyDrive/ibm project/TRAIN_SET",target_size = (64,64),
                                            class_mode = "categorical",batch_size = 24)
Found 4118 images belonging to 5 classes.
x_test = test_datagen.flow_from_directory("/content/drive/MyDrive/ibm project/TEST_SET",target_size = (64,64),
                                                                                      class_mode = "categorical",batch_size = 24)
Found 929 images belonging to 3 classes.
# !pip install opencv.python
import cv2
#imread is used to read the image
img = cv2.imread("/content/drive/MyDrive/ibm project/TEST_SET/APPLES/n07740461_1191.jpg")
img
array([[[174, 188, 207],
        [173, 187, 206],
        [171, 185, 204],
        ...,
        [181, 192, 206],
        [180, 192, 204],
        [179, 191, 203]],

       [[175, 189, 208],
        [174, 188, 207],
        [174, 188, 207],
        ...,
        [182, 193, 207],
        [182, 193, 207],
        [181, 193, 205]],

       [[178, 192, 211],
        [177, 191, 210],
        [177, 191, 210],
        ...,
        [184, 195, 209],
        [184, 195, 209],
        [184, 195, 209]],

       ...,

       [[161, 185, 209],
        [164, 188, 212],
        [163, 191, 215],
        ...,
        [184, 198, 216],
        [186, 200, 218],
        [187, 201, 220]],

       [[157, 185, 209],
        [158, 186, 210],
        [156, 187, 210],
        ...,
        [185, 199, 217],
        [187, 201, 219],
        [187, 201, 220]],

       [[154, 186, 209],
        [153, 185, 208],
        [150, 182, 205],
        ...,
        [187, 199, 217],
        [188, 202, 221],
        [189, 203, 222]]], dtype=uint8)
img.ndim
3
type(img)
numpy.ndarray
img.shape
(256, 256, 3)
#flag 1 means color image
img_flag = cv2.imread("/content/drive/MyDrive/ibm project/TEST_SET/APPLES/n07740461_1191.jpg")
img_flag
array([[[174, 188, 207],
        [173, 187, 206],
        [171, 185, 204],
        ...,
        [181, 192, 206],
        [180, 192, 204],
        [179, 191, 203]],

       [[175, 189, 208],
        [174, 188, 207],
        [174, 188, 207],
        ...,
        [182, 193, 207],
        [182, 193, 207],
        [181, 193, 205]],

       [[178, 192, 211],
        [177, 191, 210],
        [177, 191, 210],
        ...,
        [184, 195, 209],
        [184, 195, 209],
        [184, 195, 209]],

       ...,

       [[161, 185, 209],
        [164, 188, 212],
        [163, 191, 215],
        ...,
        [184, 198, 216],
        [186, 200, 218],
        [187, 201, 220]],

       [[157, 185, 209],
        [158, 186, 210],
        [156, 187, 210],
        ...,
        [185, 199, 217],
        [187, 201, 219],
        [187, 201, 220]],

       [[154, 186, 209],
        [153, 185, 208],
        [150, 182, 205],
        ...,
        [187, 199, 217],
        [188, 202, 221],
        [189, 203, 222]]], dtype=uint8)
import matplotlib.pyplot as plt
plt.imshow(img)

plt.imshow(img_flag)

#resize the image
resized_img = cv2.resize(img,(100,100))
resized_img.shape
(100, 100, 3)
plt.imshow(resized_img)

Covert color

cv_img = cv2.cvtColor(img,cv2.COLOR_BGR2YCR_CB)
plt.imshow(cv_img)

cv_img = cv2.cvtColor(img,cv2.COLOR_BGR2GRAY)
plt.imshow(cv_img)

Roi or crop of image

roi_img = img[50:280,35:150]
roi_img = img[10:40,35:150]
plt.imshow(roi_img)

roi_img = img[10:40,0:90]
plt.imshow(roi_img)

roi_img = img[0:90,10:40]
plt.imshow(roi_img)

Blur or Smoothing

# averaging
# cv2.blur() or cv2.boxFilter
img_bl = cv2.blur(img,(10,10))
plt.imshow(img_bl)

#gaussian blur
img_gbl = cv2.GaussianBlur(img,(5,5),0)
plt.imshow(img_gbl)

Canny edge detection

img_edge = cv2.Canny(img,230,350)
plt.imshow(img_edge)

Thershold

#binary
#src -- image
#thresh
#max_value
#type -- type of thersholding
#cv2.THRESH_BINARY -- Binary Thersholding
thresh, thresh_img = cv2.threshold(img, 200, 255, cv2.THRESH_BINARY) #img
plt.imshow(thresh_img)

#circle 
#cv2.circle(image,(center coordinates),radius,(color), thickness)
circle = cv2.circle(img,(300,200),60,(255,0,0),5)
plt.imshow(img)

#rectangle
#cv2.rectangle(img,(start coord),(end coord),color,thickness)
rectangle = cv2.rectangle(img,(200,100),(400,300),(0,0,255),10)
plt.imshow(img)

#line
#cv2.line(img,(start coord),(end coord),color,thickness)

line = cv2.line(img,(200,100),(400,300),(0,255,0),3)
plt.imshow(img)

#creating or writing text an image
#cv2.putText(img,text,(coord),fontstyle,fontscale,color,thickness)
text = cv2.putText(img,"Opencv",(200,50),cv2.FONT_HERSHEY_SIMPLEX,2,(255,255,255),5)
plt.imshow(img)
